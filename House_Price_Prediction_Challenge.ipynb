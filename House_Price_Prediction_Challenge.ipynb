{
  "nbformat": 4,
  "nbformat_minor": 0,
  "metadata": {
    "colab": {
      "provenance": [],
      "authorship_tag": "ABX9TyPUMJdwmsBvbOhy2vps3YDE",
      "include_colab_link": true
    },
    "kernelspec": {
      "name": "python3",
      "display_name": "Python 3"
    },
    "language_info": {
      "name": "python"
    }
  },
  "cells": [
    {
      "cell_type": "markdown",
      "metadata": {
        "id": "view-in-github",
        "colab_type": "text"
      },
      "source": [
        "<a href=\"https://colab.research.google.com/github/matheustoneti/HousePricePredictionChallenge/blob/main/House_Price_Prediction_Challenge.ipynb\" target=\"_parent\"><img src=\"https://colab.research.google.com/assets/colab-badge.svg\" alt=\"Open In Colab\"/></a>"
      ]
    },
    {
      "cell_type": "code",
      "source": [
        "import pandas as pd\n",
        "import numpy as np\n",
        "from sklearn import preprocessing\n",
        "from sklearn.model_selection import train_test_split\n",
        "from sklearn.tree import DecisionTreeRegressor\n",
        "import seaborn as sns"
      ],
      "metadata": {
        "id": "egztf5BCG-qX"
      },
      "execution_count": 31,
      "outputs": []
    },
    {
      "cell_type": "code",
      "execution_count": 1,
      "metadata": {
        "colab": {
          "base_uri": "https://localhost:8080/"
        },
        "id": "vpQeFrZsFqy2",
        "outputId": "be4220a8-177c-403d-db7a-af691dbf13c2"
      },
      "outputs": [
        {
          "output_type": "stream",
          "name": "stdout",
          "text": [
            "Mounted at /content/gdrive\n"
          ]
        }
      ],
      "source": [
        "from google.colab import drive\n",
        "drive.mount('/content/gdrive')"
      ]
    },
    {
      "cell_type": "code",
      "source": [
        "test = pd.read_csv('/content/gdrive/MyDrive/test.csv')\n",
        "train = pd.read_csv('/content/gdrive/MyDrive/train.csv')"
      ],
      "metadata": {
        "id": "PJqZLnYTGa7-"
      },
      "execution_count": 5,
      "outputs": []
    },
    {
      "cell_type": "code",
      "source": [
        "train.head(10)"
      ],
      "metadata": {
        "colab": {
          "base_uri": "https://localhost:8080/",
          "height": 479
        },
        "id": "Tkb9q0jmHGwV",
        "outputId": "0762ebfb-85ed-40af-a97e-7e900ba075dd"
      },
      "execution_count": 6,
      "outputs": [
        {
          "output_type": "execute_result",
          "data": {
            "text/plain": [
              "  POSTED_BY  UNDER_CONSTRUCTION  RERA  BHK_NO. BHK_OR_RK    SQUARE_FT  \\\n",
              "0     Owner                   0     0        2       BHK  1300.236407   \n",
              "1    Dealer                   0     0        2       BHK  1275.000000   \n",
              "2     Owner                   0     0        2       BHK   933.159722   \n",
              "3     Owner                   0     1        2       BHK   929.921143   \n",
              "4    Dealer                   1     0        2       BHK   999.009247   \n",
              "5     Owner                   0     0        3       BHK  1250.000000   \n",
              "6    Dealer                   0     0        3       BHK  1495.053957   \n",
              "7     Owner                   0     1        3       BHK  1181.012946   \n",
              "8    Dealer                   0     1        2       BHK  1040.000000   \n",
              "9     Owner                   0     1        2       BHK   879.120879   \n",
              "\n",
              "   READY_TO_MOVE  RESALE                      ADDRESS  LONGITUDE   LATITUDE  \\\n",
              "0              1       1        Ksfc Layout,Bangalore  12.969910  77.597960   \n",
              "1              1       1    Vishweshwara Nagar,Mysore  12.274538  76.644605   \n",
              "2              1       1             Jigani,Bangalore  12.778033  77.632191   \n",
              "3              1       1  Sector-1 Vaishali,Ghaziabad  28.642300  77.344500   \n",
              "4              0       1             New Town,Kolkata  22.592200  88.484911   \n",
              "5              1       1         South Chittoor,Kochi  10.033280  76.282571   \n",
              "6              1       1                Sodala,Jaipur  26.916347  75.795600   \n",
              "7              1       1                Kharar,Mohali  30.740000  76.650000   \n",
              "8              1       1        Bileshivale,Bangalore  13.054202  77.674002   \n",
              "9              1       1            Chromepet,Chennai  12.951610  80.140970   \n",
              "\n",
              "   TARGET(PRICE_IN_LACS)  \n",
              "0                   55.0  \n",
              "1                   51.0  \n",
              "2                   43.0  \n",
              "3                   62.5  \n",
              "4                   60.5  \n",
              "5                   42.0  \n",
              "6                   66.5  \n",
              "7                   52.0  \n",
              "8                   41.6  \n",
              "9                   36.0  "
            ],
            "text/html": [
              "\n",
              "  <div id=\"df-37edcb45-c9e2-4d89-a415-956e92120213\">\n",
              "    <div class=\"colab-df-container\">\n",
              "      <div>\n",
              "<style scoped>\n",
              "    .dataframe tbody tr th:only-of-type {\n",
              "        vertical-align: middle;\n",
              "    }\n",
              "\n",
              "    .dataframe tbody tr th {\n",
              "        vertical-align: top;\n",
              "    }\n",
              "\n",
              "    .dataframe thead th {\n",
              "        text-align: right;\n",
              "    }\n",
              "</style>\n",
              "<table border=\"1\" class=\"dataframe\">\n",
              "  <thead>\n",
              "    <tr style=\"text-align: right;\">\n",
              "      <th></th>\n",
              "      <th>POSTED_BY</th>\n",
              "      <th>UNDER_CONSTRUCTION</th>\n",
              "      <th>RERA</th>\n",
              "      <th>BHK_NO.</th>\n",
              "      <th>BHK_OR_RK</th>\n",
              "      <th>SQUARE_FT</th>\n",
              "      <th>READY_TO_MOVE</th>\n",
              "      <th>RESALE</th>\n",
              "      <th>ADDRESS</th>\n",
              "      <th>LONGITUDE</th>\n",
              "      <th>LATITUDE</th>\n",
              "      <th>TARGET(PRICE_IN_LACS)</th>\n",
              "    </tr>\n",
              "  </thead>\n",
              "  <tbody>\n",
              "    <tr>\n",
              "      <th>0</th>\n",
              "      <td>Owner</td>\n",
              "      <td>0</td>\n",
              "      <td>0</td>\n",
              "      <td>2</td>\n",
              "      <td>BHK</td>\n",
              "      <td>1300.236407</td>\n",
              "      <td>1</td>\n",
              "      <td>1</td>\n",
              "      <td>Ksfc Layout,Bangalore</td>\n",
              "      <td>12.969910</td>\n",
              "      <td>77.597960</td>\n",
              "      <td>55.0</td>\n",
              "    </tr>\n",
              "    <tr>\n",
              "      <th>1</th>\n",
              "      <td>Dealer</td>\n",
              "      <td>0</td>\n",
              "      <td>0</td>\n",
              "      <td>2</td>\n",
              "      <td>BHK</td>\n",
              "      <td>1275.000000</td>\n",
              "      <td>1</td>\n",
              "      <td>1</td>\n",
              "      <td>Vishweshwara Nagar,Mysore</td>\n",
              "      <td>12.274538</td>\n",
              "      <td>76.644605</td>\n",
              "      <td>51.0</td>\n",
              "    </tr>\n",
              "    <tr>\n",
              "      <th>2</th>\n",
              "      <td>Owner</td>\n",
              "      <td>0</td>\n",
              "      <td>0</td>\n",
              "      <td>2</td>\n",
              "      <td>BHK</td>\n",
              "      <td>933.159722</td>\n",
              "      <td>1</td>\n",
              "      <td>1</td>\n",
              "      <td>Jigani,Bangalore</td>\n",
              "      <td>12.778033</td>\n",
              "      <td>77.632191</td>\n",
              "      <td>43.0</td>\n",
              "    </tr>\n",
              "    <tr>\n",
              "      <th>3</th>\n",
              "      <td>Owner</td>\n",
              "      <td>0</td>\n",
              "      <td>1</td>\n",
              "      <td>2</td>\n",
              "      <td>BHK</td>\n",
              "      <td>929.921143</td>\n",
              "      <td>1</td>\n",
              "      <td>1</td>\n",
              "      <td>Sector-1 Vaishali,Ghaziabad</td>\n",
              "      <td>28.642300</td>\n",
              "      <td>77.344500</td>\n",
              "      <td>62.5</td>\n",
              "    </tr>\n",
              "    <tr>\n",
              "      <th>4</th>\n",
              "      <td>Dealer</td>\n",
              "      <td>1</td>\n",
              "      <td>0</td>\n",
              "      <td>2</td>\n",
              "      <td>BHK</td>\n",
              "      <td>999.009247</td>\n",
              "      <td>0</td>\n",
              "      <td>1</td>\n",
              "      <td>New Town,Kolkata</td>\n",
              "      <td>22.592200</td>\n",
              "      <td>88.484911</td>\n",
              "      <td>60.5</td>\n",
              "    </tr>\n",
              "    <tr>\n",
              "      <th>5</th>\n",
              "      <td>Owner</td>\n",
              "      <td>0</td>\n",
              "      <td>0</td>\n",
              "      <td>3</td>\n",
              "      <td>BHK</td>\n",
              "      <td>1250.000000</td>\n",
              "      <td>1</td>\n",
              "      <td>1</td>\n",
              "      <td>South Chittoor,Kochi</td>\n",
              "      <td>10.033280</td>\n",
              "      <td>76.282571</td>\n",
              "      <td>42.0</td>\n",
              "    </tr>\n",
              "    <tr>\n",
              "      <th>6</th>\n",
              "      <td>Dealer</td>\n",
              "      <td>0</td>\n",
              "      <td>0</td>\n",
              "      <td>3</td>\n",
              "      <td>BHK</td>\n",
              "      <td>1495.053957</td>\n",
              "      <td>1</td>\n",
              "      <td>1</td>\n",
              "      <td>Sodala,Jaipur</td>\n",
              "      <td>26.916347</td>\n",
              "      <td>75.795600</td>\n",
              "      <td>66.5</td>\n",
              "    </tr>\n",
              "    <tr>\n",
              "      <th>7</th>\n",
              "      <td>Owner</td>\n",
              "      <td>0</td>\n",
              "      <td>1</td>\n",
              "      <td>3</td>\n",
              "      <td>BHK</td>\n",
              "      <td>1181.012946</td>\n",
              "      <td>1</td>\n",
              "      <td>1</td>\n",
              "      <td>Kharar,Mohali</td>\n",
              "      <td>30.740000</td>\n",
              "      <td>76.650000</td>\n",
              "      <td>52.0</td>\n",
              "    </tr>\n",
              "    <tr>\n",
              "      <th>8</th>\n",
              "      <td>Dealer</td>\n",
              "      <td>0</td>\n",
              "      <td>1</td>\n",
              "      <td>2</td>\n",
              "      <td>BHK</td>\n",
              "      <td>1040.000000</td>\n",
              "      <td>1</td>\n",
              "      <td>1</td>\n",
              "      <td>Bileshivale,Bangalore</td>\n",
              "      <td>13.054202</td>\n",
              "      <td>77.674002</td>\n",
              "      <td>41.6</td>\n",
              "    </tr>\n",
              "    <tr>\n",
              "      <th>9</th>\n",
              "      <td>Owner</td>\n",
              "      <td>0</td>\n",
              "      <td>1</td>\n",
              "      <td>2</td>\n",
              "      <td>BHK</td>\n",
              "      <td>879.120879</td>\n",
              "      <td>1</td>\n",
              "      <td>1</td>\n",
              "      <td>Chromepet,Chennai</td>\n",
              "      <td>12.951610</td>\n",
              "      <td>80.140970</td>\n",
              "      <td>36.0</td>\n",
              "    </tr>\n",
              "  </tbody>\n",
              "</table>\n",
              "</div>\n",
              "      <button class=\"colab-df-convert\" onclick=\"convertToInteractive('df-37edcb45-c9e2-4d89-a415-956e92120213')\"\n",
              "              title=\"Convert this dataframe to an interactive table.\"\n",
              "              style=\"display:none;\">\n",
              "        \n",
              "  <svg xmlns=\"http://www.w3.org/2000/svg\" height=\"24px\"viewBox=\"0 0 24 24\"\n",
              "       width=\"24px\">\n",
              "    <path d=\"M0 0h24v24H0V0z\" fill=\"none\"/>\n",
              "    <path d=\"M18.56 5.44l.94 2.06.94-2.06 2.06-.94-2.06-.94-.94-2.06-.94 2.06-2.06.94zm-11 1L8.5 8.5l.94-2.06 2.06-.94-2.06-.94L8.5 2.5l-.94 2.06-2.06.94zm10 10l.94 2.06.94-2.06 2.06-.94-2.06-.94-.94-2.06-.94 2.06-2.06.94z\"/><path d=\"M17.41 7.96l-1.37-1.37c-.4-.4-.92-.59-1.43-.59-.52 0-1.04.2-1.43.59L10.3 9.45l-7.72 7.72c-.78.78-.78 2.05 0 2.83L4 21.41c.39.39.9.59 1.41.59.51 0 1.02-.2 1.41-.59l7.78-7.78 2.81-2.81c.8-.78.8-2.07 0-2.86zM5.41 20L4 18.59l7.72-7.72 1.47 1.35L5.41 20z\"/>\n",
              "  </svg>\n",
              "      </button>\n",
              "      \n",
              "  <style>\n",
              "    .colab-df-container {\n",
              "      display:flex;\n",
              "      flex-wrap:wrap;\n",
              "      gap: 12px;\n",
              "    }\n",
              "\n",
              "    .colab-df-convert {\n",
              "      background-color: #E8F0FE;\n",
              "      border: none;\n",
              "      border-radius: 50%;\n",
              "      cursor: pointer;\n",
              "      display: none;\n",
              "      fill: #1967D2;\n",
              "      height: 32px;\n",
              "      padding: 0 0 0 0;\n",
              "      width: 32px;\n",
              "    }\n",
              "\n",
              "    .colab-df-convert:hover {\n",
              "      background-color: #E2EBFA;\n",
              "      box-shadow: 0px 1px 2px rgba(60, 64, 67, 0.3), 0px 1px 3px 1px rgba(60, 64, 67, 0.15);\n",
              "      fill: #174EA6;\n",
              "    }\n",
              "\n",
              "    [theme=dark] .colab-df-convert {\n",
              "      background-color: #3B4455;\n",
              "      fill: #D2E3FC;\n",
              "    }\n",
              "\n",
              "    [theme=dark] .colab-df-convert:hover {\n",
              "      background-color: #434B5C;\n",
              "      box-shadow: 0px 1px 3px 1px rgba(0, 0, 0, 0.15);\n",
              "      filter: drop-shadow(0px 1px 2px rgba(0, 0, 0, 0.3));\n",
              "      fill: #FFFFFF;\n",
              "    }\n",
              "  </style>\n",
              "\n",
              "      <script>\n",
              "        const buttonEl =\n",
              "          document.querySelector('#df-37edcb45-c9e2-4d89-a415-956e92120213 button.colab-df-convert');\n",
              "        buttonEl.style.display =\n",
              "          google.colab.kernel.accessAllowed ? 'block' : 'none';\n",
              "\n",
              "        async function convertToInteractive(key) {\n",
              "          const element = document.querySelector('#df-37edcb45-c9e2-4d89-a415-956e92120213');\n",
              "          const dataTable =\n",
              "            await google.colab.kernel.invokeFunction('convertToInteractive',\n",
              "                                                     [key], {});\n",
              "          if (!dataTable) return;\n",
              "\n",
              "          const docLinkHtml = 'Like what you see? Visit the ' +\n",
              "            '<a target=\"_blank\" href=https://colab.research.google.com/notebooks/data_table.ipynb>data table notebook</a>'\n",
              "            + ' to learn more about interactive tables.';\n",
              "          element.innerHTML = '';\n",
              "          dataTable['output_type'] = 'display_data';\n",
              "          await google.colab.output.renderOutput(dataTable, element);\n",
              "          const docLink = document.createElement('div');\n",
              "          docLink.innerHTML = docLinkHtml;\n",
              "          element.appendChild(docLink);\n",
              "        }\n",
              "      </script>\n",
              "    </div>\n",
              "  </div>\n",
              "  "
            ]
          },
          "metadata": {},
          "execution_count": 6
        }
      ]
    },
    {
      "cell_type": "code",
      "source": [
        "y = train['TARGET(PRICE_IN_LACS)']\n",
        "x = train.drop(['TARGET(PRICE_IN_LACS)'], axis = 1)"
      ],
      "metadata": {
        "id": "erTr8mU4HJdK"
      },
      "execution_count": 8,
      "outputs": []
    },
    {
      "cell_type": "code",
      "source": [
        "x.value_counts(['ADDRESS'])"
      ],
      "metadata": {
        "colab": {
          "base_uri": "https://localhost:8080/"
        },
        "id": "j2q5gYNCHaDC",
        "outputId": "3a678d06-93d3-40fe-d31e-e9f6116f65fb"
      },
      "execution_count": 13,
      "outputs": [
        {
          "output_type": "execute_result",
          "data": {
            "text/plain": [
              "ADDRESS                      \n",
              "Zirakpur,Chandigarh              509\n",
              "Whitefield,Bangalore             230\n",
              "Raj Nagar Extension,Ghaziabad    215\n",
              "Sector-137 Noida,Noida           139\n",
              "New Town,Kolkata                 131\n",
              "                                ... \n",
              "Lower Thather Bantalab,Jammu       1\n",
              "Lower Bharari,Shimla               1\n",
              "Louis Wadi,Maharashtra             1\n",
              "Lottegolla Halli,Bangalore         1\n",
              "yelahanka/Jakkur,Bangalore         1\n",
              "Length: 6899, dtype: int64"
            ]
          },
          "metadata": {},
          "execution_count": 13
        }
      ]
    },
    {
      "cell_type": "code",
      "source": [
        "le = preprocessing.LabelEncoder()"
      ],
      "metadata": {
        "id": "h5LbTS0_HeHr"
      },
      "execution_count": 15,
      "outputs": []
    },
    {
      "cell_type": "code",
      "source": [
        "x['POSTED_BY'] = le.fit_transform(x['POSTED_BY'])\n",
        "x['BHK_OR_RK'] = le.fit_transform(x['BHK_OR_RK'])\n",
        "x['ADDRESS'] = le.fit_transform(x['ADDRESS'])"
      ],
      "metadata": {
        "id": "eNZvCnrQH88w"
      },
      "execution_count": 17,
      "outputs": []
    },
    {
      "cell_type": "code",
      "source": [
        "x.isnull().sum()"
      ],
      "metadata": {
        "colab": {
          "base_uri": "https://localhost:8080/"
        },
        "id": "SjbEoQgAISHn",
        "outputId": "242d3011-3928-41f0-e7d7-3d9e686739d6"
      },
      "execution_count": 20,
      "outputs": [
        {
          "output_type": "execute_result",
          "data": {
            "text/plain": [
              "POSTED_BY             0\n",
              "UNDER_CONSTRUCTION    0\n",
              "RERA                  0\n",
              "BHK_NO.               0\n",
              "BHK_OR_RK             0\n",
              "SQUARE_FT             0\n",
              "READY_TO_MOVE         0\n",
              "RESALE                0\n",
              "ADDRESS               0\n",
              "LONGITUDE             0\n",
              "LATITUDE              0\n",
              "dtype: int64"
            ]
          },
          "metadata": {},
          "execution_count": 20
        }
      ]
    },
    {
      "cell_type": "code",
      "source": [
        "sns.heatmap(x.corr())"
      ],
      "metadata": {
        "colab": {
          "base_uri": "https://localhost:8080/",
          "height": 398
        },
        "id": "GYF5bIN-KFSE",
        "outputId": "f054b81a-37e2-4a4d-8cb0-404d59d44f77"
      },
      "execution_count": 32,
      "outputs": [
        {
          "output_type": "execute_result",
          "data": {
            "text/plain": [
              "<matplotlib.axes._subplots.AxesSubplot at 0x7f19739be3d0>"
            ]
          },
          "metadata": {},
          "execution_count": 32
        },
        {
          "output_type": "display_data",
          "data": {
            "text/plain": [
              "<Figure size 432x288 with 2 Axes>"
            ],
            "image/png": "[encoded data removed]"
          },
          "metadata": {
            "needs_background": "light"
          }
        }
      ]
    },
    {
      "cell_type": "markdown",
      "source": [
        "## Dados processados. Agora separar os dados de treino e teste, treinar e aplicar o modelo de Regressão."
      ],
      "metadata": {
        "id": "Tf5yp1qiIZ_o"
      }
    },
    {
      "cell_type": "code",
      "source": [
        "x_train, x_test, y_train, y_test = train_test_split(x,y, test_size = (0.3))"
      ],
      "metadata": {
        "id": "mHBsxEZbIiH0"
      },
      "execution_count": 24,
      "outputs": []
    },
    {
      "cell_type": "code",
      "source": [
        "modelo = DecisionTreeRegressor()"
      ],
      "metadata": {
        "id": "AsPUJFVXJknU"
      },
      "execution_count": 27,
      "outputs": []
    },
    {
      "cell_type": "code",
      "source": [
        "modelo = modelo.fit(x_train, y_train)"
      ],
      "metadata": {
        "id": "vakdyrQ1J3vS"
      },
      "execution_count": 28,
      "outputs": []
    },
    {
      "cell_type": "code",
      "source": [
        "accuracy = modelo.score (x_test, y_test)"
      ],
      "metadata": {
        "id": "7DJDA2HxJ6fS"
      },
      "execution_count": 29,
      "outputs": []
    },
    {
      "cell_type": "code",
      "source": [
        "print(accuracy)"
      ],
      "metadata": {
        "colab": {
          "base_uri": "https://localhost:8080/"
        },
        "id": "7oFk2sSUJ9bM",
        "outputId": "e2e34a86-4e8d-4bff-bcb8-1fc01cdd56cd"
      },
      "execution_count": 30,
      "outputs": [
        {
          "output_type": "stream",
          "name": "stdout",
          "text": [
            "0.9173443577880165\n"
          ]
        }
      ]
    },
    {
      "cell_type": "code",
      "source": [],
      "metadata": {
        "id": "PjHMGj5dJ-c9"
      },
      "execution_count": null,
      "outputs": []
    }
  ]
}